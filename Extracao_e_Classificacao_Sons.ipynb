{
 "cells": [
  {
   "cell_type": "code",
   "execution_count": null,
   "metadata": {
    "collapsed": true
   },
   "outputs": [],
   "source": [
    "### Ler os arquivos \n",
    "Associar classificacao do especialista (vocal x não-vocal)"
   ]
  },
  {
   "cell_type": "code",
   "execution_count": 44,
   "metadata": {
    "collapsed": true
   },
   "outputs": [],
   "source": [
    "%matplotlib inline\n",
    "import warnings\n",
    "warnings.filterwarnings('ignore')\n",
    "import numpy as np\n",
    "import scipy.io.wavfile\n",
    "import matplotlib.pyplot as plt\n",
    "import IPython.lib.display as display \n",
    "import mir3.modules.tool.wav2spectrogram as spec\n",
    "from matplotlib.colors import Normalize\n",
    "from sklearn.neighbors import KNeighborsClassifier \n",
    "from sklearn.cross_validation import StratifiedShuffleSplit\n",
    "from sklearn.svm import SVC\n",
    "from sklearn.ensemble import RandomForestClassifier\n",
    "from sklearn.tree import DecisionTreeClassifier\n",
    "from sklearn.preprocessing import StandardScaler\n",
    "from sklearn.grid_search import GridSearchCV\n",
    "from matplotlib.colors import ListedColormap\n",
    "import scipy.io.wavfile"
   ]
  },
  {
   "cell_type": "code",
   "execution_count": 2,
   "metadata": {
    "collapsed": false
   },
   "outputs": [],
   "source": [
    "def fundamental_frequencies_extractor(x, window_length, window_step, sample_rate):\n",
    "    t0 = 0\n",
    "    window = window_length\n",
    "    step = window_step\n",
    "    f0 = []\n",
    "    while t0+window < len(x):\n",
    "        per_fun = t0_acc(x[t0:t0+window])\n",
    "        if per_fun > 2:\n",
    "            per_fun /= float(sample_rate)\n",
    "            f0.append(1./per_fun)\n",
    "        else:\n",
    "            f0.append(0)\n",
    "        t0 += step\n",
    "    return f0\n",
    "\n",
    "#Detecção de frequencia fundamental\n",
    "def t0_acc(x):\n",
    "    \"\"\"Retorna o periodo fundamental de x, em amostras\"\"\"\n",
    "    X = np.abs(np.fft.fft(x))\n",
    "    r = np.real(np.fft.ifft(X*X))\n",
    "    r2 = np.zeros(len(r)/2)\n",
    "    for n in xrange(len(r2)):\n",
    "        r2[n] = r[n][0]-r[n/2][0]\n",
    "    r2 *= np.linspace(1, 0, len(r2))\n",
    "    t0 = np.argmax(r2)\n",
    "    return t0"
   ]
  },
  {
   "cell_type": "markdown",
   "metadata": {},
   "source": [
    "### Time Domain Features\n",
    "##Zero Crossing Rate\n",
    "\n",
    "Zero-crossing rate is a simple, straightforward and inexpensive feature to examine the similarity between two or more accelerometer sensors. It measures whether two sets of time series measurements exhibit similar patters. It is particularly useful to analyze measurements that are corrupted by noise. For example, a measurement with a high zero-crossing rate, i.e., the number of samples per second that cross the zero reference line, indicates that it is noisy. However, we observe that even for sensors having the same orientation, the calibration error results in a deviation of 40s. Substituting the zero-crossing value by a mean valuecrossing, i.e., by defining a mean threshold that serves as a reference, results in a calibration error with a deviation between 2 and 15/s for individual axes and between 0 and 2/s for the absolute acceleration values of the individual measurements. Cross test of uncorrelated measurements, on the other hand, reveals that the overall calibration error is markedly bigger: between 7 and 50/s for the raw measurements and between 5 and 30/s for the absolute values.\n",
    "\n",
    "The Zero Crossing Rate (ZCR) is defined by:\n",
    "\n",
    "\\[ zcr = \\frac{1}{N-1} \\sum_{i=1}^{N-1} | sign|x(i)| - sign|x(i-1)| | \\]\n",
    "\n",
    "where \\(N\\) is the number of samples of an audio file and the signum function is defined by:\n",
    "\n",
    "\\[ sign|x(i)| = \\begin{cases} 1, & \\text{ if } x(i) > 0\\\\ 0, & \\text{ if } x(i) = 0\\\\ -1,&\\text{ if } x(i) < 0 \\end{cases} \\]\n",
    "\n",
    "average number of times the audio signal crosses the zero amplitude line per time unit. very simple to compute has been applied to speech processing to distinguish voiced sections from noise\n",
    "\n",
    "also has been applied to MIR tasks such as classifying percussion sounds Genres"
   ]
  },
  {
   "cell_type": "markdown",
   "metadata": {},
   "source": [
    "### Mel-Frequency Cepstral Coefficients (MFCC)\n",
    "used previously in speech recognition\n",
    "model human auditory response (Mel scale)\n",
    "âcepstrumâ (s-p-e-c reversed): result of taking the Fourier transform (FFT) of the decibel spectrum as if it were a signal\n",
    "show rate of change in the different spectrum bands\n",
    "Dominant feature in speech recognition, because of ist ability to represent the speech amplitude spectrum in a compact form\n",
    "has also prooved to be highly efficient in Music Retrieval\n",
    "good timbre feature\n",
    "represent the rate of change in the different spectrum bands\n"
   ]
  },
  {
   "cell_type": "code",
   "execution_count": 26,
   "metadata": {
    "collapsed": false
   },
   "outputs": [
    {
     "name": "stdout",
     "output_type": "stream",
     "text": [
      "('All music:', 46)\n"
     ]
    }
   ],
   "source": [
    "from os import listdir\n",
    "from os.path import isfile, join\n",
    "music_path = 'sons'\n",
    "\n",
    "alto_files = [(f,'Alto') for f in listdir(music_path) if '_alto' in f and isfile(join(music_path, f))]\n",
    "baritone_files = [(f, 'Baritone') for f in listdir(music_path) if '_baritone' in f and isfile(join(music_path, f))]\n",
    "bass_files = [(f,'Bass') for f in listdir(music_path) if '_bass' in f and isfile(join(music_path, f))]\n",
    "soprano_files = [(f, 'Soprano') for f in listdir(music_path) if '_soprano' in f and isfile(join(music_path, f))]\n",
    "tenor_files = [(f,'Tenor') for f in listdir(music_path) if '_tenor' in f and isfile(join(music_path, f))]\n",
    "acute_files = [(f,'Acute') for f in listdir(music_path) if '_acute' in f and isfile(join(music_path, f))]\n",
    "grave_files = [(f,'Grave') for f in listdir(music_path) if '_grave' in f and isfile(join(music_path, f))]\n",
    "percussive_files = [(f,'Percussive') for f in listdir(music_path) if '_percussive' in f and isfile(join(music_path, f))]\n",
    "\n",
    "all_music_list = alto_files + baritone_files + bass_files + soprano_files + tenor_files + grave_files + percussive_files\n",
    "\n",
    "#print ('All Vocal:', vocal_files)\n",
    "#print ('All Non vocal:', non_vocal_files)\n",
    "print ('All music:', len(all_music_list))"
   ]
  },
  {
   "cell_type": "markdown",
   "metadata": {},
   "source": [
    "### Usar os filtros\n",
    "### A) Centróide Espectral\n",
    "O centróide de uma forma geométrica indica o seu ponto de equilíbrio (assumindo densidade constante). Também, é um ponto que minimiza a soma das distâncias euclidianas (ponderadas pela magnitude) em relação a todos os outros pontos da forma abordada.  Se a forma é limitada por uma função $y[k] = f(k)$, então seu centróide pode ser calculado por:\n",
    "$$\\frac{\\sum_{k=0}^{K-1} ky[k]}{\\sum_{k=0}^{K-1}y[k]}.$$\n",
    "\n",
    "Sob um ponto de vista perceptual, o centróide se correlaciona a uma propriedade chamada *brilho* (*brightness*). Um som muito brilhante é também entendido como \"estridente\", ao passo que um som mais opaco (menos brilhante) pode ser também descrito como \"fechado\". \n",
    "\n",
    "### B) Spectral Flatness\n",
    "Espectros planos são geralmente relacionados a eventos percussivos e a ruído branco. O spectral flatness é calculado normalizando o espectro para que possa ser considerado um histograma de probabilidades (isto é, com soma unitária) e então estimando a entropia de Shannon desse histograma. Um espectro plano tem flatness igual a 1 e um espectro com apenas um componente diferente de zero tem flatness igual a zero.\n",
    "\n",
    "### C) Roll-off Espectral\n",
    "Roll-Off é o nome que se dá à frequência abaixo da qual se concentra mais de 95% da energia de um espectro. Esse número, 95%, depende da quantidade de ruído esperada em um sinal. Em verdade, espera-se que todo o conteúdo energético acima do roll-off se relacione somente a ruído.\n",
    "\n",
    "### D) Energia\n",
    "A energia é simplesmente a soma dos elementos de um quadro do espectrograma, elevados ao quadrado. Trata-se de um valor que é alto quando um som é perceptualmente intenso, e baixo em sons pouco intensos.\n",
    "\n",
    "### E) Fluxo espectral\n",
    "O fluxo espectral não é propriamente um descritor de forma local do espectro. Trata-se de uma quantificação do quanto o espectro de um quadro varia em relação ao anterior, considerando apenas os acréscimos de magnitude, ou:\n",
    "$$f_q = \\sum_{k=0}^{N-1} \\max(X_q[k] - X_{q-1}[k], 0).$$"
   ]
  },
  {
   "cell_type": "code",
   "execution_count": 62,
   "metadata": {
    "collapsed": false,
    "scrolled": true
   },
   "outputs": [],
   "source": [
    "import mir3.modules.tool.wav2spectrogram as spectrogram\n",
    "import mir3.modules.features.flatness as flatness\n",
    "import mir3.modules.features.centroid as cent\n",
    "import mir3.modules.features.rolloff as roll\n",
    "import mir3.modules.features.energy as energ\n",
    "import mir3.modules.features.flux as specfl\n",
    "#import mir3.modules.features.td_zero_crossings as zerocross\n",
    "#import mir3.modules.features.mfcc as mfcc\n",
    "\n",
    "flat_samples = {}\n",
    "centroid_samples = {}\n",
    "roll_off_samples = {}\n",
    "energy_samples = {}\n",
    "spectral_flux_samples = {}\n",
    "fundamental_frequencies_samples = {}\n",
    "zero_crossing_rate = {}\n",
    "rms_rate = {}\n",
    "for (fname, label) in all_music_list:\n",
    "    #print fname\n",
    "    #print label\n",
    "    \n",
    "    #frequencia fundamental\n",
    "    rate, data = scipy.io.wavfile.read(join(music_path,fname))\n",
    "    #print(\"sampling rate = {} Hz, length = {} samples, channels = {}\".format(rate,*data.shape))\n",
    "    data = data.astype(np.float) \n",
    "    data_normalized = (data - np.mean(data))/np.sqrt(np.var(data))\n",
    "    \n",
    "    fundamental_freqs = fundamental_frequencies_extractor(x=data_normalized, window_length=1024, window_step=512, sample_rate=rate)\n",
    "    fundamental_frequencies_samples[fname] = fundamental_freqs\n",
    "    #print 'fundamental_freqs:', fundamental_freqs\n",
    "      \n",
    "    wav2spec = spectrogram.Wav2Spectrogram() # Objeto que converte arquivos wav para espectrograma\n",
    "    s = wav2spec.convert(open(join(music_path, fname), 'rb'), window_length=1024, window_step=512, spectrum_type='magnitude')\n",
    "\n",
    "    #Centroid\n",
    "    centr = cent.Centroid()\n",
    "    centroid = centr.calc_track(s)\n",
    "    #T = centroid.metadata.sampling_configuration.ofs\n",
    "    #t = np.linspace(0, len(centroid.data)/T, len(centroid.data))\n",
    "    centroid_samples[fname] = centroid.data\n",
    "\n",
    "    #Spectral Flatness\n",
    "    fness = flatness.Flatness()\n",
    "    f = fness.calc_track(s)\n",
    "    flat_samples[fname] = f.data\n",
    "    \n",
    "    #Roll-off \n",
    "    roff = roll.Rolloff()\n",
    "    roll_off = roff.calc_track(s)\n",
    "    roll_off_samples[fname] = roll_off.data\n",
    "    #T = roll_off.metadata.sampling_configuration.ofs\n",
    "    #t = np.linspace(0, len(roll_off.data)/T, len(roll_off.data))\n",
    "    \n",
    "    #Energy\n",
    "    en = energ.Energy()\n",
    "    energy = en.calc_track(s)\n",
    "    #T = energy.metadata.sampling_configuration.ofs\n",
    "    #t = np.linspace(0, len(energy.data)/T, len(energy.data))\n",
    "    energy_samples[fname] = energy.data\n",
    "    \n",
    "    #Spectral Flux\n",
    "    fl = specfl.Flux()\n",
    "    flux = fl.calc_track(s)\n",
    "    #T = flux.metadata.sampling_configuration.ofs\n",
    "    #t = np.linspace(0, len(flux.data)/T, len(flux.data))\n",
    "    spectral_flux_samples[fname] = flux.data\n",
    "    \n",
    "    #Mel-Frequency Cepstral Coefficients\n",
    "    #melfreqcepstral = mfcc.Mfcc()\n",
    "    #mel_freq_cepstral_coef = melfreqcepstral.calc_track(s)\n",
    "\n",
    "#print 'Dictionary Centroid training samples:', centroid_samples    \n",
    "#print 'Dictionary Flatness training samples:', flat_samples\n",
    "#print 'Dictionary Roll-off training samples:', roll_off_samples \n",
    "#print 'Dictionary Energy training samples:', energy_samples \n",
    "#print 'Dictionary Spectral Flux training samples:', spectral_flux_samples\n",
    "#print 'Dictionary Fundamental Frequencies training samples:', fundamental_frequencies_samples"
   ]
  },
  {
   "cell_type": "markdown",
   "metadata": {},
   "source": [
    "### Visualizar - Calcular descritores (media e variancia) para flatness e ver dispersão"
   ]
  },
  {
   "cell_type": "code",
   "execution_count": 35,
   "metadata": {
    "collapsed": false
   },
   "outputs": [
    {
     "data": {
      "text/plain": [
       "<matplotlib.text.Text at 0x16b17a90>"
      ]
     },
     "execution_count": 35,
     "metadata": {},
     "output_type": "execute_result"
    },
    {
     "data": {
      "image/png": "[encoded data removed]",
      "text/plain": [
       "<matplotlib.figure.Figure at 0x16b22eb8>"
      ]
     },
     "metadata": {},
     "output_type": "display_data"
    }
   ],
   "source": [
    "plt.figure();\n",
    "classes_list = []\n",
    "for (fname, label) in all_music_list: \n",
    "    if '_alto' in fname:\n",
    "        index = 1 #intermediate\n",
    "    elif '_baritone' in fname:\n",
    "        index = 1 #intermediate\n",
    "    elif '_bass' in fname:\n",
    "        index = 2 #grave\n",
    "    elif '_soprano' in fname:\n",
    "        index = 0 #acute\n",
    "    elif '_tenor' in fname:\n",
    "        index = 0 #acute\n",
    "    elif '_acute' in fname:\n",
    "        index = 0 \n",
    "    elif '_grave' in fname:\n",
    "        index = 2 \n",
    "    else: #'_percussive' in fname:\n",
    "        index = 3\n",
    "    classes_list.append(index)\n",
    "plt.hist(classes_list)\n",
    "plt.title(\"Histogram\")\n",
    "plt.xlabel(\"Value\")\n",
    "plt.ylabel(\"Frequency\")"
   ]
  },
  {
   "cell_type": "code",
   "execution_count": 36,
   "metadata": {
    "collapsed": false
   },
   "outputs": [
    {
     "data": {
      "image/png": "[encoded data removed]",
      "text/plain": [
       "<matplotlib.figure.Figure at 0x164955f8>"
      ]
     },
     "metadata": {},
     "output_type": "display_data"
    }
   ],
   "source": [
    "color=['red', 'blue','gray','green']\n",
    "#labels=[\"Alto\",\"Baritone\",\"Bass\",\"Soprano\",\"Tenor\",\"Acute\",\"Grave\",\"Percussive\"]\n",
    "labels=[\"Acute\",\"Intermediate\", \"Grave\",\"Percussive\"]\n",
    "\n",
    "plt.figure();\n",
    "for (fname, label) in all_music_list: \n",
    "    if '_alto' in fname:\n",
    "        index = 1 #intermediate\n",
    "    elif '_baritone' in fname:\n",
    "        index = 1 #intermediate\n",
    "    elif '_bass' in fname:\n",
    "        index = 2 #grave\n",
    "    elif '_soprano' in fname:\n",
    "        index = 0 #acute\n",
    "    elif '_tenor' in fname:\n",
    "        index = 0 #acute\n",
    "    elif '_acute' in fname:\n",
    "        index = 0 \n",
    "    elif '_grave' in fname:\n",
    "        index = 2 \n",
    "    else: #'_percussive' in fname:\n",
    "        index = 3\n",
    "    #print fname, np.mean(flat_samples[fname]), np.var(flat_samples[fname]), color[index], labels[index] \n",
    "    plt.scatter(np.mean(flat_samples[fname]), np.var(flat_samples[fname]), color=color[index], label=labels[index])\n",
    "plt.title('Flatness descriptors')\n",
    "plt.xlabel('Media de flatness')\n",
    "plt.ylabel('Variancia de flatness')\n",
    "plt.legend(labels, loc=4);\n",
    "plt.show()"
   ]
  },
  {
   "cell_type": "markdown",
   "metadata": {},
   "source": [
    "### Visualizar - Calcular descritores (media e variancia) para Centroid e ver dispersão"
   ]
  },
  {
   "cell_type": "code",
   "execution_count": 37,
   "metadata": {
    "collapsed": false
   },
   "outputs": [
    {
     "data": {
      "image/png": "[encoded data removed]",
      "text/plain": [
       "<matplotlib.figure.Figure at 0x1b9f1470>"
      ]
     },
     "metadata": {},
     "output_type": "display_data"
    }
   ],
   "source": [
    "plt.figure();\n",
    "for (fname, label) in all_music_list: \n",
    "    if '_alto' in fname:\n",
    "        index = 1 #intermediate\n",
    "    elif '_baritone' in fname:\n",
    "        index = 1 #intermediate\n",
    "    elif '_bass' in fname:\n",
    "        index = 2 #grave\n",
    "    elif '_soprano' in fname:\n",
    "        index = 0 #acute\n",
    "    elif '_tenor' in fname:\n",
    "        index = 0 #acute\n",
    "    elif '_acute' in fname:\n",
    "        index = 0 \n",
    "    elif '_grave' in fname:\n",
    "        index = 2 \n",
    "    else: #'_percussive' in fname:\n",
    "        index = 3\n",
    "        \n",
    "    plt.scatter(np.mean(centroid_samples[fname]), np.var(centroid_samples[fname]), color=color[index], label=labels[index])\n",
    "plt.title('Centroid descriptors')\n",
    "plt.xlabel('Media de centroid')\n",
    "plt.ylabel('Variancia de centroid')\n",
    "plt.legend(labels, loc=4);\n",
    "plt.show()"
   ]
  },
  {
   "cell_type": "markdown",
   "metadata": {},
   "source": [
    "#### Freq Fundamental"
   ]
  },
  {
   "cell_type": "code",
   "execution_count": 61,
   "metadata": {
    "collapsed": false
   },
   "outputs": [
    {
     "data": {
      "image/png": "[encoded data removed]",
      "text/plain": [
       "<matplotlib.figure.Figure at 0x19ef29e8>"
      ]
     },
     "metadata": {},
     "output_type": "display_data"
    }
   ],
   "source": [
    "plt.figure();\n",
    "for (fname, label) in all_music_list: \n",
    "    if '_alto' in fname:\n",
    "        index = 1 #intermediate\n",
    "    elif '_baritone' in fname:\n",
    "        index = 1 #intermediate\n",
    "    elif '_bass' in fname:\n",
    "        index = 2 #grave\n",
    "    elif '_soprano' in fname:\n",
    "        index = 0 #acute\n",
    "    elif '_tenor' in fname:\n",
    "        index = 0 #acute\n",
    "    elif '_acute' in fname:\n",
    "        index = 0 \n",
    "    elif '_grave' in fname:\n",
    "        index = 2 \n",
    "    else: #'_percussive' in fname:\n",
    "        index = 3\n",
    "    plt.scatter(np.mean(fundamental_frequencies_samples[fname]), np.var(fundamental_frequencies_samples[fname]), color=color[index], label=labels[index])\n",
    "plt.title('Freq Fundamental descriptors')\n",
    "plt.xlabel('Media de Freq Fundamental (Hz)')\n",
    "plt.ylabel('Variancia de Freq Fundamental (Hz)')\n",
    "plt.show()"
   ]
  },
  {
   "cell_type": "markdown",
   "metadata": {},
   "source": [
    "### Visualizar - Calcular descritores (media e variancia) para Roll-off e ver dispersão"
   ]
  },
  {
   "cell_type": "code",
   "execution_count": null,
   "metadata": {
    "collapsed": false
   },
   "outputs": [],
   "source": [
    "plt.figure();\n",
    "for (fname, label) in all_music_list: \n",
    "    if '_alto' in fname:\n",
    "        index = 1 #intermediate\n",
    "    elif '_baritone' in fname:\n",
    "        index = 1 #intermediate\n",
    "    elif '_bass' in fname:\n",
    "        index = 2 #grave\n",
    "    elif '_soprano' in fname:\n",
    "        index = 0 #acute\n",
    "    elif '_tenor' in fname:\n",
    "        index = 0 #acute\n",
    "    elif '_acute' in fname:\n",
    "        index = 0 \n",
    "    elif '_grave' in fname:\n",
    "        index = 2 \n",
    "    else: #'_percussive' in fname:\n",
    "        index = 3\n",
    "    plt.scatter(np.mean(roll_off_samples[fname]), np.var(roll_off_samples[fname]), color=color[index], label=labels[index])\n",
    "plt.title('Roll-off descriptors')\n",
    "plt.xlabel('Media de Roll-off')\n",
    "plt.ylabel('Variancia de Roll-off')\n",
    "plt.legend(labels, loc=4);\n",
    "plt.show()"
   ]
  },
  {
   "cell_type": "markdown",
   "metadata": {},
   "source": [
    "### Visualizar - Calcular descritores (media e variancia) para Energy e ver dispersão"
   ]
  },
  {
   "cell_type": "code",
   "execution_count": 11,
   "metadata": {
    "collapsed": false
   },
   "outputs": [
    {
     "data": {
      "image/png": "[encoded data removed]",
      "text/plain": [
       "<matplotlib.figure.Figure at 0x195ba5f8>"
      ]
     },
     "metadata": {},
     "output_type": "display_data"
    }
   ],
   "source": [
    "plt.figure();\n",
    "for (fname, label) in all_music_list: \n",
    "    if '_alto' in fname:\n",
    "        index = 1 #intermediate\n",
    "    elif '_baritone' in fname:\n",
    "        index = 1 #intermediate\n",
    "    elif '_bass' in fname:\n",
    "        index = 2 #grave\n",
    "    elif '_soprano' in fname:\n",
    "        index = 0 #acute\n",
    "    elif '_tenor' in fname:\n",
    "        index = 0 #acute\n",
    "    elif '_acute' in fname:\n",
    "        index = 0 \n",
    "    elif '_grave' in fname:\n",
    "        index = 2 \n",
    "    else: #'_percussive' in fname:\n",
    "        index = 3\n",
    "    plt.scatter(np.mean(energy_samples[fname]), np.var(energy_samples[fname]), color=color[index], label=labels[index])\n",
    "plt.title('Energy descriptors')\n",
    "plt.xlabel('Media de Energy')\n",
    "plt.ylabel('Variancia de Energy')\n",
    "plt.legend(labels, loc=4);\n",
    "plt.show()"
   ]
  },
  {
   "cell_type": "markdown",
   "metadata": {},
   "source": [
    "### Visualizar - Calcular descritores (media e variancia) para Spectral Flux e ver dispersão"
   ]
  },
  {
   "cell_type": "code",
   "execution_count": 39,
   "metadata": {
    "collapsed": false
   },
   "outputs": [
    {
     "data": {
      "image/png": "[encoded data removed]",
      "text/plain": [
       "<matplotlib.figure.Figure at 0x1baf5048>"
      ]
     },
     "metadata": {},
     "output_type": "display_data"
    }
   ],
   "source": [
    "plt.figure();\n",
    "for (fname, label) in all_music_list: \n",
    "    if '_alto' in fname:\n",
    "        index = 1 #intermediate\n",
    "    elif '_baritone' in fname:\n",
    "        index = 1 #intermediate\n",
    "    elif '_bass' in fname:\n",
    "        index = 2 #grave\n",
    "    elif '_soprano' in fname:\n",
    "        index = 0 #acute\n",
    "    elif '_tenor' in fname:\n",
    "        index = 0 #acute\n",
    "    elif '_acute' in fname:\n",
    "        index = 0 \n",
    "    elif '_grave' in fname:\n",
    "        index = 2 \n",
    "    else: #'_percussive' in fname:\n",
    "        index = 3\n",
    "    plt.scatter(np.mean(spectral_flux_samples[fname]), np.var(spectral_flux_samples[fname]), color=color[index], label=labels[index])\n",
    "plt.title('Spectral Flux descriptors')\n",
    "plt.xlabel('Media de Spectral Flux')\n",
    "plt.ylabel('Variancia de Spectral Flux')\n",
    "plt.legend(labels, loc=4);\n",
    "plt.show()"
   ]
  },
  {
   "cell_type": "markdown",
   "metadata": {},
   "source": [
    "### Calcular descritores (media e variancia) a partir de cada filtro (e normalizar)"
   ]
  },
  {
   "cell_type": "code",
   "execution_count": 65,
   "metadata": {
    "collapsed": false
   },
   "outputs": [],
   "source": [
    "descriptors_samples = {}\n",
    "for (fname, label) in all_music_list:    \n",
    "    descriptors = []\n",
    "    \n",
    "    #descriptors for flatness\n",
    "    flat_normalized = (flat_samples[fname] - np.mean(flat_samples[fname]))/np.sqrt(np.var(flat_samples[fname]))\n",
    "    flat_mean_normalized = np.mean(flat_normalized)\n",
    "    flat_var_normalized = np.var(flat_normalized)\n",
    "    flat_skew = scipy.stats.skew(flat_normalized)\n",
    "    flat_kurtosis = scipy.stats.kurtosis(flat_normalized)\n",
    "    flat_median = np.median(flat_normalized)\n",
    "    flat_min = np.min(flat_normalized)\n",
    "    flat_max = np.max(flat_normalized)\n",
    "    flat_descriptors = [flat_mean_normalized, flat_var_normalized, flat_skew, flat_kurtosis, flat_median, flat_min, flat_max]\n",
    "    \n",
    "    #descriptors for centroid\n",
    "    centroid_normalized = (centroid_samples[fname] - np.mean(centroid_samples[fname]))/np.sqrt(np.var(centroid_samples[fname]))\n",
    "    centroid_mean_normalized = np.mean(centroid_normalized)\n",
    "    centroid_var_normalized = np.var(centroid_normalized)\n",
    "    centroid_descriptors = [centroid_mean_normalized, centroid_var_normalized]\n",
    "    \n",
    "    #descriptors for roll-off\n",
    "    roll_off_normalized = (roll_off_samples[fname] - np.mean(roll_off_samples[fname]))/np.sqrt(np.var(roll_off_samples[fname]))\n",
    "    roll_off_mean_normalized = np.mean(roll_off_normalized)\n",
    "    roll_off_var_normalized = np.var(roll_off_normalized)\n",
    "    roll_off_descriptors = [roll_off_mean_normalized, roll_off_var_normalized]\n",
    "    \n",
    "    #descriptors for energy\n",
    "    energy_normalized = (energy_samples[fname] - np.mean(energy_samples[fname]))/np.sqrt(np.var(energy_samples[fname]))\n",
    "    energy_mean_normalized = np.mean(energy_normalized)\n",
    "    energy_var_normalized = np.var(energy_normalized)\n",
    "    energy_descriptors = [energy_mean_normalized, energy_var_normalized]\n",
    "    \n",
    "    #descriptors for spectral flux        \n",
    "    spectral_flux_normalized = (spectral_flux_samples[fname] - np.mean(spectral_flux_samples[fname]))/np.sqrt(np.var(spectral_flux_samples[fname]))\n",
    "    spectral_flux_mean_normalized = np.mean(spectral_flux_normalized)\n",
    "    spectral_flux_var_normalized = np.var(spectral_flux_normalized)\n",
    "    spectral_flux_descriptors = [spectral_flux_mean_normalized, spectral_flux_var_normalized]\n",
    "    \n",
    "    #descriptors for fundamental frequency       \n",
    "    fundamental_frequencies_normalized = (fundamental_frequencies_samples[fname] - np.mean(fundamental_frequencies_samples[fname]))/np.sqrt(np.var(fundamental_frequencies_samples[fname]))\n",
    "    fundamental_frequencies_mean_normalized = np.mean(spectral_flux_normalized)\n",
    "    fundamental_frequencies_var_normalized = np.var(spectral_flux_normalized)\n",
    "    fundamental_frequencies_descriptors = [fundamental_frequencies_mean_normalized, fundamental_frequencies_var_normalized]\n",
    "    \n",
    "    #all_descriptors = [flat_mean_normalized, flat_var_normalized,\n",
    "    #              centroid_mean_normalized, centroid_var_normalized,\n",
    "    #              roll_off_mean_normalized, roll_off_var_normalized,\n",
    "    #              energy_mean_normalized, energy_var_normalized,\n",
    "    #              spectral_flux_mean_normalized, spectral_flux_normalized]\n",
    "    descriptors_samples[fname] = (flat_descriptors, centroid_descriptors, roll_off_descriptors, energy_descriptors, \n",
    "                              spectral_flux_descriptors,fundamental_frequencies_descriptors, label)\n",
    "\n",
    "#print 'Descriptors dictionary', descriptors_samples"
   ]
  },
  {
   "cell_type": "markdown",
   "metadata": {},
   "source": [
    "### Separar os dados (treino, validacao e teste) \n",
    "Quebrar em 60% para treino e 40% para testes"
   ]
  },
  {
   "cell_type": "code",
   "execution_count": 66,
   "metadata": {
    "collapsed": false
   },
   "outputs": [],
   "source": [
    "from sklearn import cross_validation\n",
    "train_list = []\n",
    "test_list = []\n",
    "#repeat_split = 1\n",
    "#for j in range(repeat_split):\n",
    "train, test = cross_validation.train_test_split(all_music_list, train_size=0.6, test_size=0.4)\n",
    "train_list.append(train)\n",
    "test_list.append(test)\n",
    "#print 'Selected train:', len(train)\n",
    "#print 'Selected test:', len(test)"
   ]
  },
  {
   "cell_type": "markdown",
   "metadata": {},
   "source": [
    "### Definir matrizes de treino, validação e teste"
   ]
  },
  {
   "cell_type": "code",
   "execution_count": 67,
   "metadata": {
    "collapsed": false
   },
   "outputs": [
    {
     "name": "stdout",
     "output_type": "stream",
     "text": [
      "Descriptor used: Flatness\n",
      "k_index: 0\n",
      "Descriptor used: Centroid\n",
      "k_index: 1\n",
      "Descriptor used: Spectral Flux\n",
      "k_index: 4\n",
      "Descriptor used: Roll off\n",
      "k_index: 2\n",
      "Descriptor used: Energy\n",
      "k_index: 3\n",
      "Descriptor used: Fundamental Frequencies\n",
      "k_index: 5\n"
     ]
    }
   ],
   "source": [
    "descriptors_labels = ['Flatness','Centroid','Spectral Flux', 'Roll off','Energy','Fundamental Frequencies'] \n",
    "descriptors_map = {'Flatness':0,'Centroid':1,'Roll off':2,'Energy':3,'Spectral Flux':4, 'Fundamental Frequencies':5}\n",
    "#descriptor_sets_list = []\n",
    "\n",
    "#for j in range(repeat_split):\n",
    "descriptor_sets = []\n",
    "\n",
    "for k in range(len(descriptors_labels)):\n",
    "    #print k\n",
    "    print 'Descriptor used:', descriptors_labels[k]  \n",
    "    k_index = descriptors_map[descriptors_labels[k]]\n",
    "    print 'k_index:', k_index\n",
    "    #print 'treino:\\n'\n",
    "    X_train = []\n",
    "    y_train = []\n",
    "    for (fname, label) in train: \n",
    "        X_train.append(descriptors_samples[fname][k_index])\n",
    "        if '_alto' in fname:\n",
    "            value = 1 #intermediate\n",
    "        elif '_baritone' in fname:\n",
    "            value = 1 #intermediate\n",
    "        elif '_bass' in fname:\n",
    "            value = 2 #grave\n",
    "        elif '_soprano' in fname:\n",
    "            value = 0 #acute\n",
    "        elif '_tenor' in fname:\n",
    "            value = 0 #acute\n",
    "        elif '_acute' in fname:\n",
    "            value = 0 \n",
    "        elif '_grave' in fname:\n",
    "            value = 2 \n",
    "        else: #'_percussive' in fname:\n",
    "            value = 3\n",
    "        y_train.append(value)\n",
    "        #print len(X_train)\n",
    "        #print 'X_train:', X_train\n",
    "        #print len(y_train)\n",
    "        #print 'Y_train:', y_train\n",
    "        #print '\\n'\n",
    "\n",
    "    #print 'teste:\\n'\n",
    "    X_test = []\n",
    "    y_test = []\n",
    "    #test = test_list[j]\n",
    "    for (fname, label) in test: \n",
    "        X_test.append(descriptors_samples[fname][k_index])\n",
    "        if '_alto' in fname:\n",
    "            value = 1 #intermediate\n",
    "        elif '_baritone' in fname:\n",
    "            value = 1 #intermediate\n",
    "        elif '_bass' in fname:\n",
    "            value = 2 #grave\n",
    "        elif '_soprano' in fname:\n",
    "            value = 0 #acute\n",
    "        elif '_tenor' in fname:\n",
    "            value = 0 #acute\n",
    "        elif '_acute' in fname:\n",
    "            value = 0 \n",
    "        elif '_grave' in fname:\n",
    "            value = 2 \n",
    "        else: #'_percussive' in fname:\n",
    "            value = 3\n",
    "        y_test.append(value)\n",
    "        #print len(X_test)\n",
    "        #print 'X_test:', X_test\n",
    "        #print len(y_test)\n",
    "        #print 'Y_test:', y_test\n",
    "    descriptor_sets.append((X_train,y_train,X_test,y_test))\n",
    "#print 'descriptor_sets:', descriptor_sets\n",
    "#descriptor_sets_list.append(descriptor_sets)"
   ]
  },
  {
   "cell_type": "markdown",
   "metadata": {},
   "source": [
    "### Definir modelo(s) de classificação\n",
    "#### A) Knn nearest neighbors"
   ]
  },
  {
   "cell_type": "markdown",
   "metadata": {},
   "source": [
    "#### Treinar modelo com dados de Treinamento"
   ]
  },
  {
   "cell_type": "markdown",
   "metadata": {},
   "source": [
    "#### Realizar predição com dados de Validação\n",
    "80% para treino e 20% para validaçao"
   ]
  },
  {
   "cell_type": "markdown",
   "metadata": {},
   "source": [
    "#### Avaliar score com dados de Validação para escolher melhor parâmetro\n",
    "##### A) Knn"
   ]
  },
  {
   "cell_type": "code",
   "execution_count": 68,
   "metadata": {
    "collapsed": false
   },
   "outputs": [
    {
     "name": "stdout",
     "output_type": "stream",
     "text": [
      "X_train: 27\n",
      "y_train: 27\n",
      "Os melhores parametros para Knn com descritor Flatness , params {'n_neighbors': 10.0, 'weights': 'distance'} com um score de 0.29\n",
      "X_train: 27\n",
      "y_train: 27\n",
      "Os melhores parametros para Knn com descritor Centroid , params {'n_neighbors': 4.0, 'weights': 'distance'} com um score de 0.51\n",
      "X_train: 27\n",
      "y_train: 27\n",
      "Os melhores parametros para Knn com descritor Spectral Flux , params {'n_neighbors': 10.0, 'weights': 'uniform'} com um score de 0.31\n",
      "X_train: 27\n",
      "y_train: 27\n",
      "Os melhores parametros para Knn com descritor Roll off , params {'n_neighbors': 7.0, 'weights': 'distance'} com um score de 0.34\n",
      "X_train: 27\n",
      "y_train: 27\n",
      "Os melhores parametros para Knn com descritor Energy , params {'n_neighbors': 6.0, 'weights': 'uniform'} com um score de 0.51\n",
      "X_train: 27\n",
      "y_train: 27\n",
      "Os melhores parametros para Knn com descritor Fundamental Frequencies , params {'n_neighbors': 10.0, 'weights': 'uniform'} com um score de 0.29\n"
     ]
    }
   ],
   "source": [
    "i=0\n",
    "classifiers = []\n",
    "names = []\n",
    "for ds in descriptor_sets:\n",
    "    X_train,y_train,X_test,y_test = ds\n",
    "    descriptor_used_label = descriptors_labels[i]\n",
    "    n_neighbors_range = np.linspace(2, 10, num=9)\n",
    "    param_grid = dict(n_neighbors=n_neighbors_range, weights=['uniform', 'distance'])\n",
    "    validation = StratifiedShuffleSplit(y_train, n_iter=5, test_size=0.2)\n",
    "    grid = GridSearchCV(KNeighborsClassifier(), param_grid=param_grid, cv=validation)\n",
    "    print 'X_train:', len(X_train)\n",
    "    print 'y_train:', len(y_train)\n",
    "    grid.fit(X_train, y_train)\n",
    "\n",
    "    print(\"Os melhores parametros para Knn com descritor %s , params %s com um score de %0.2f\"\n",
    "          % (descriptor_used_label, grid.best_params_, grid.best_score_))\n",
    "    knn_neighbors_best_param = grid.best_params_['n_neighbors']\n",
    "    names.append('KNN_'+descriptor_used_label)\n",
    "    classifiers.append(KNeighborsClassifier(n_neighbors=knn_neighbors_best_param))\n",
    "    i=i+1"
   ]
  },
  {
   "cell_type": "markdown",
   "metadata": {},
   "source": [
    "### Avaliar score com diferentes modelos (predição nos dados de teste)\n",
    "Melhor modelo Knn"
   ]
  },
  {
   "cell_type": "markdown",
   "metadata": {},
   "source": [
    "### Usar estatísticas de significância para verificar se há diferença entre os modelos estudados (p-score)\n",
    "Se P <= 0.05, há confiança de que as distribuições diferentem significativamente, e podemos afirmar que o modelo aplicado tem um impacto significativo sobre o valor medido. "
   ]
  },
  {
   "cell_type": "code",
   "execution_count": 69,
   "metadata": {
    "collapsed": false
   },
   "outputs": [
    {
     "name": "stdout",
     "output_type": "stream",
     "text": [
      "k_index: 0\n",
      "-------------------------------------------\n",
      "\n",
      "Descriptor used Flatness\n",
      "\n",
      "best_knn: KNeighborsClassifier(algorithm='auto', leaf_size=30, metric='minkowski',\n",
      "           metric_params=None, n_neighbors=10.0, p=2, weights='uniform')\n",
      "KNN      test: [3 0 1 0 1 0 1 2 3 2 2 0 3 1 1 2 0 1 2]\n",
      "KNN predicted: [0 0 0 0 2 0 0 0 0 0 0 3 0 0 0 3 0 3 0]\n",
      "Knn score: 0.210526315789\n",
      "              precision    recall  f1-score   support\n",
      "\n",
      "       Acute       0.27      0.80      0.40         5\n",
      "Intermediate       0.00      0.00      0.00         6\n",
      "       Grave       0.00      0.00      0.00         5\n",
      "  Percussive       0.00      0.00      0.00         3\n",
      "\n",
      " avg / total       0.07      0.21      0.11        19\n",
      "\n",
      "k_index: 1\n",
      "-------------------------------------------\n",
      "\n",
      "Descriptor used Centroid\n",
      "\n",
      "best_knn: KNeighborsClassifier(algorithm='auto', leaf_size=30, metric='minkowski',\n",
      "           metric_params=None, n_neighbors=4.0, p=2, weights='uniform')\n",
      "KNN      test: [3 0 1 0 1 0 1 2 3 2 2 0 3 1 1 2 0 1 2]\n",
      "KNN predicted: [1 0 1 1 1 1 1 1 1 3 1 1 3 1 3 1 1 1 1]\n",
      "Knn score: 0.368421052632\n",
      "              precision    recall  f1-score   support\n",
      "\n",
      "       Acute       1.00      0.20      0.33         5\n",
      "Intermediate       0.33      0.83      0.48         6\n",
      "       Grave       0.00      0.00      0.00         5\n",
      "  Percussive       0.33      0.33      0.33         3\n",
      "\n",
      " avg / total       0.42      0.37      0.29        19\n",
      "\n",
      "k_index: 4\n",
      "-------------------------------------------\n",
      "\n",
      "Descriptor used Spectral Flux\n",
      "\n",
      "best_knn: KNeighborsClassifier(algorithm='auto', leaf_size=30, metric='minkowski',\n",
      "           metric_params=None, n_neighbors=10.0, p=2, weights='uniform')\n",
      "KNN      test: [3 0 1 0 1 0 1 2 3 2 2 0 3 1 1 2 0 1 2]\n",
      "KNN predicted: [0 0 1 0 1 3 0 0 0 0 0 1 0 0 0 0 1 0 0]\n",
      "Knn score: 0.210526315789\n",
      "              precision    recall  f1-score   support\n",
      "\n",
      "       Acute       0.14      0.40      0.21         5\n",
      "Intermediate       0.50      0.33      0.40         6\n",
      "       Grave       0.00      0.00      0.00         5\n",
      "  Percussive       0.00      0.00      0.00         3\n",
      "\n",
      " avg / total       0.20      0.21      0.18        19\n",
      "\n",
      "k_index: 2\n",
      "-------------------------------------------\n",
      "\n",
      "Descriptor used Roll off\n",
      "\n",
      "best_knn: KNeighborsClassifier(algorithm='auto', leaf_size=30, metric='minkowski',\n",
      "           metric_params=None, n_neighbors=7.0, p=2, weights='uniform')\n",
      "KNN      test: [3 0 1 0 1 0 1 2 3 2 2 0 3 1 1 2 0 1 2]\n",
      "KNN predicted: [0 0 1 1 0 0 3 0 1 0 3 0 0 3 0 0 3 3 3]\n",
      "Knn score: 0.210526315789\n",
      "              precision    recall  f1-score   support\n",
      "\n",
      "       Acute       0.30      0.60      0.40         5\n",
      "Intermediate       0.33      0.17      0.22         6\n",
      "       Grave       0.00      0.00      0.00         5\n",
      "  Percussive       0.00      0.00      0.00         3\n",
      "\n",
      " avg / total       0.18      0.21      0.18        19\n",
      "\n",
      "k_index: 3\n",
      "-------------------------------------------\n",
      "\n",
      "Descriptor used Energy\n",
      "\n",
      "best_knn: KNeighborsClassifier(algorithm='auto', leaf_size=30, metric='minkowski',\n",
      "           metric_params=None, n_neighbors=6.0, p=2, weights='uniform')\n",
      "KNN      test: [3 0 1 0 1 0 1 2 3 2 2 0 3 1 1 2 0 1 2]\n",
      "KNN predicted: [1 0 1 1 1 1 1 3 1 3 1 1 1 1 0 1 3 0 1]\n",
      "Knn score: 0.263157894737\n",
      "              precision    recall  f1-score   support\n",
      "\n",
      "       Acute       0.33      0.20      0.25         5\n",
      "Intermediate       0.31      0.67      0.42         6\n",
      "       Grave       0.00      0.00      0.00         5\n",
      "  Percussive       0.00      0.00      0.00         3\n",
      "\n",
      " avg / total       0.18      0.26      0.20        19\n",
      "\n",
      "k_index: 5\n",
      "-------------------------------------------\n",
      "\n",
      "Descriptor used Fundamental Frequencies\n",
      "\n",
      "best_knn: KNeighborsClassifier(algorithm='auto', leaf_size=30, metric='minkowski',\n",
      "           metric_params=None, n_neighbors=10.0, p=2, weights='uniform')\n",
      "KNN      test: [3 0 1 0 1 0 1 2 3 2 2 0 3 1 1 2 0 1 2]\n",
      "KNN predicted: [0 0 1 0 1 3 0 0 0 0 0 1 0 0 0 0 1 0 0]\n",
      "Knn score: 0.210526315789\n",
      "              precision    recall  f1-score   support\n",
      "\n",
      "       Acute       0.14      0.40      0.21         5\n",
      "Intermediate       0.50      0.33      0.40         6\n",
      "       Grave       0.00      0.00      0.00         5\n",
      "  Percussive       0.00      0.00      0.00         3\n",
      "\n",
      " avg / total       0.20      0.21      0.18        19\n",
      "\n"
     ]
    }
   ],
   "source": [
    "from sklearn.metrics import classification_report\n",
    "from scipy import stats  \n",
    "\n",
    "y_knn_mean_list_centroid = []\n",
    "y_knn_mean_list_flatness = []\n",
    "y_knn_mean_list_roll_off = []\n",
    "y_knn_mean_list_energy = []\n",
    "y_knn_mean_list_spectral_flux = []\n",
    "y_knn_mean_list_fundamental_freq = []\n",
    "i=0\n",
    "for ds in descriptor_sets:\n",
    "    #print k\n",
    "    k_index = descriptors_map[descriptors_labels[i]]\n",
    "    print 'k_index:', k_index\n",
    "    knn_score_list = []\n",
    "    descriptor_used_label = descriptors_labels[i]\n",
    "    print '-------------------------------------------\\n'\n",
    "    print 'Descriptor used %s\\n' % (descriptor_used_label)\n",
    "\n",
    "    X_train,y_train,X_test,y_test = ds\n",
    "    best_knn = classifiers[i] #best knn for the given classifier\n",
    "    print 'best_knn:', best_knn\n",
    "    best_knn.fit(X_train, y_train)\n",
    "    y_knn_predicted = best_knn.predict(X_test)\n",
    "    print 'KNN      test:', np.array(y_test)\n",
    "    print 'KNN predicted:', np.array(y_knn_predicted)\n",
    "    target_names = labels\n",
    "    knn_score = best_knn.score(X_test, y_test)\n",
    "    print 'Knn score:', knn_score\n",
    "    if k_index==0:\n",
    "        y_knn_mean_list_centroid.append(knn_score)\n",
    "    elif k_index==1:\n",
    "        y_knn_mean_list_flatness.append(knn_score)\n",
    "    elif k_index==2:\n",
    "        y_knn_mean_list_roll_off.append(knn_score)\n",
    "    elif k_index==3:\n",
    "        y_knn_mean_list_energy.append(knn_score)\n",
    "    elif k_index==4:\n",
    "        y_knn_mean_list_spectral_flux.append(knn_score)\n",
    "    elif k_index==5:\n",
    "        y_knn_mean_list_fundamental_freq.append(knn_score)\n",
    "    print(classification_report(y_test, y_knn_predicted, target_names=target_names))\n",
    "    i+=1"
   ]
  },
  {
   "cell_type": "markdown",
   "metadata": {},
   "source": [
    "#### Comparing Centroid with the others"
   ]
  },
  {
   "cell_type": "code",
   "execution_count": 60,
   "metadata": {
    "collapsed": false
   },
   "outputs": [
    {
     "name": "stdout",
     "output_type": "stream",
     "text": [
      "-------------------------------------------\n",
      "\n",
      "MWW RankSum P for results Centroid and Flatness = 0.317310507863\n",
      "-------------------------------------------\n",
      "\n",
      "-------------------------------------------\n",
      "\n",
      "MWW RankSum P for results Centroid and Roll off = 0.317310507863\n",
      "-------------------------------------------\n",
      "\n",
      "-------------------------------------------\n",
      "\n",
      "MWW RankSum P for results Centroid and Energy = 0.317310507863\n",
      "-------------------------------------------\n",
      "\n",
      "-------------------------------------------\n",
      "\n",
      "MWW RankSum P for results Centroid and Spectral Flux = 0.317310507863\n",
      "-------------------------------------------\n",
      "\n",
      "-------------------------------------------\n",
      "\n",
      "MWW RankSum P for results Centroid and Fundamental Frequency = 0.317310507863\n",
      "-------------------------------------------\n",
      "\n"
     ]
    }
   ],
   "source": [
    "print '-------------------------------------------\\n'\n",
    "z_stat, p_val = stats.ranksums(y_knn_mean_list_centroid, y_knn_mean_list_flatness)    \n",
    "t, prob = stats.ttest_ind(y_knn_mean_list_centroid, y_knn_mean_list_flatness, equal_var = False)\n",
    "print \"MWW RankSum P for results Centroid and Flatness =\", p_val\n",
    "#print \"T-test for results Centroid and Flatness =\", t, prob\n",
    "print '-------------------------------------------\\n'\n",
    "\n",
    "print '-------------------------------------------\\n'    \n",
    "z_stat, p_val = stats.ranksums(y_knn_mean_list_centroid, y_knn_mean_list_roll_off)    \n",
    "t, prob = stats.ttest_ind(y_knn_mean_list_centroid, y_knn_mean_list_roll_off, equal_var = False)\n",
    "print \"MWW RankSum P for results Centroid and Roll off =\", p_val\n",
    "#print \"T-test for results Centroid and Roll off =\", t, prob\n",
    "print '-------------------------------------------\\n'\n",
    "\n",
    "print '-------------------------------------------\\n'    \n",
    "z_stat, p_val = stats.ranksums(y_knn_mean_list_centroid, y_knn_mean_list_energy)    \n",
    "t, prob = stats.ttest_ind(y_knn_mean_list_centroid, y_knn_mean_list_energy, equal_var = False)\n",
    "print \"MWW RankSum P for results Centroid and Energy =\", p_val\n",
    "#print \"T-test for results Centroid and Energy =\", t, prob\n",
    "print '-------------------------------------------\\n'\n",
    "\n",
    "print '-------------------------------------------\\n'    \n",
    "z_stat, p_val = stats.ranksums(y_knn_mean_list_centroid, y_knn_mean_list_spectral_flux)    \n",
    "t, prob = stats.ttest_ind(y_knn_mean_list_centroid, y_knn_mean_list_spectral_flux, equal_var = False)\n",
    "print \"MWW RankSum P for results Centroid and Spectral Flux =\", p_val\n",
    "#print \"T-test for results Centroid and Spectral Flux =\", t, prob\n",
    "print '-------------------------------------------\\n'\n",
    "\n",
    "print '-------------------------------------------\\n'    \n",
    "z_stat, p_val = stats.ranksums(y_knn_mean_list_centroid, y_knn_mean_list_fundamental_freq)    \n",
    "t, prob = stats.ttest_ind(y_knn_mean_list_centroid, y_knn_mean_list_fundamental_freq, equal_var = False)\n",
    "print \"MWW RankSum P for results Centroid and Fundamental Frequency =\", p_val\n",
    "#print \"T-test for results Centroid and Spectral Flux =\", t, prob\n",
    "print '-------------------------------------------\\n'"
   ]
  },
  {
   "cell_type": "markdown",
   "metadata": {},
   "source": [
    "#### Comparing Flatness with the others"
   ]
  },
  {
   "cell_type": "code",
   "execution_count": 50,
   "metadata": {
    "collapsed": false
   },
   "outputs": [
    {
     "name": "stdout",
     "output_type": "stream",
     "text": [
      "-------------------------------------------\n",
      "\n",
      "MWW RankSum P for results Flatness and Roll off = 0.317310507863\n",
      "T-test for results Flatness and Roll off = nan nan\n",
      "-------------------------------------------\n",
      "\n",
      "-------------------------------------------\n",
      "\n",
      "MWW RankSum P for results Flatness and Energy = 0.317310507863\n",
      "T-test for results Flatness and Energy = nan nan\n",
      "-------------------------------------------\n",
      "\n",
      "-------------------------------------------\n",
      "\n",
      "MWW RankSum P for results Flatness and Spectral Flux = 0.317310507863\n",
      "T-test for results Flatness and Spectral Flux = nan nan\n",
      "-------------------------------------------\n",
      "\n"
     ]
    }
   ],
   "source": [
    "print '-------------------------------------------\\n'    \n",
    "z_stat, p_val = stats.ranksums(y_knn_mean_list_flatness, y_knn_mean_list_roll_off)    \n",
    "t, prob = stats.ttest_ind(y_knn_mean_list_flatness, y_knn_mean_list_roll_off, equal_var = False)\n",
    "print \"MWW RankSum P for results Flatness and Roll off =\", p_val\n",
    "#print \"T-test for results Flatness and Roll off =\", t, prob\n",
    "print '-------------------------------------------\\n'\n",
    "\n",
    "print '-------------------------------------------\\n'    \n",
    "z_stat, p_val = stats.ranksums(y_knn_mean_list_flatness, y_knn_mean_list_energy)    \n",
    "t, prob = stats.ttest_ind(y_knn_mean_list_flatness, y_knn_mean_list_energy, equal_var = False)\n",
    "print \"MWW RankSum P for results Flatness and Energy =\", p_val\n",
    "#print \"T-test for results Flatness and Energy =\", t, prob\n",
    "print '-------------------------------------------\\n'\n",
    "\n",
    "print '-------------------------------------------\\n'    \n",
    "z_stat, p_val = stats.ranksums(y_knn_mean_list_flatness, y_knn_mean_list_spectral_flux)    \n",
    "t, prob = stats.ttest_ind(y_knn_mean_list_flatness, y_knn_mean_list_spectral_flux, equal_var = False)\n",
    "print \"MWW RankSum P for results Flatness and Spectral Flux =\", p_val\n",
    "#print \"T-test for results Flatness and Spectral Flux =\", t, prob\n",
    "print '-------------------------------------------\\n'"
   ]
  },
  {
   "cell_type": "markdown",
   "metadata": {},
   "source": [
    "#### Comparing Roll-off with the others"
   ]
  },
  {
   "cell_type": "code",
   "execution_count": 51,
   "metadata": {
    "collapsed": false
   },
   "outputs": [
    {
     "name": "stdout",
     "output_type": "stream",
     "text": [
      "-------------------------------------------\n",
      "\n",
      "MWW RankSum P for results Roll-off and Energy = 0.317310507863\n",
      "T-test for results Roll-off and Energy = nan nan\n",
      "-------------------------------------------\n",
      "\n",
      "-------------------------------------------\n",
      "\n",
      "MWW RankSum P for results Roll-off and Spectral Flux = 0.317310507863\n",
      "T-test for results Roll-off and Spectral Flux = nan nan\n",
      "-------------------------------------------\n",
      "\n"
     ]
    }
   ],
   "source": [
    "print '-------------------------------------------\\n'    \n",
    "z_stat, p_val = stats.ranksums(y_knn_mean_list_roll_off, y_knn_mean_list_energy)    \n",
    "t, prob = stats.ttest_ind(y_knn_mean_list_roll_off, y_knn_mean_list_energy, equal_var = False)\n",
    "print \"MWW RankSum P for results Roll-off and Energy =\", p_val\n",
    "#print \"T-test for results Roll-off and Energy =\", t, prob\n",
    "print '-------------------------------------------\\n'\n",
    "\n",
    "print '-------------------------------------------\\n'    \n",
    "z_stat, p_val = stats.ranksums(y_knn_mean_list_roll_off, y_knn_mean_list_spectral_flux)    \n",
    "t, prob = stats.ttest_ind(y_knn_mean_list_roll_off, y_knn_mean_list_spectral_flux, equal_var = False)\n",
    "print \"MWW RankSum P for results Roll-off and Spectral Flux =\", p_val\n",
    "#print \"T-test for results Roll-off and Spectral Flux =\", t, prob\n",
    "print '-------------------------------------------\\n'"
   ]
  },
  {
   "cell_type": "markdown",
   "metadata": {},
   "source": [
    "#### Comparing Energy with the others"
   ]
  },
  {
   "cell_type": "code",
   "execution_count": 52,
   "metadata": {
    "collapsed": false
   },
   "outputs": [
    {
     "name": "stdout",
     "output_type": "stream",
     "text": [
      "-------------------------------------------\n",
      "\n",
      "MWW RankSum P for results Energy and Spectral Flux = 0.317310507863\n",
      "T-test for results Energy and Spectral Flux = nan nan\n",
      "-------------------------------------------\n",
      "\n"
     ]
    }
   ],
   "source": [
    "print '-------------------------------------------\\n'    \n",
    "z_stat, p_val = stats.ranksums(y_knn_mean_list_energy, y_knn_mean_list_spectral_flux)    \n",
    "t, prob = stats.ttest_ind(y_knn_mean_list_energy, y_knn_mean_list_spectral_flux, equal_var = False)\n",
    "print \"MWW RankSum P for results Energy and Spectral Flux =\", p_val\n",
    "#print \"T-test for results Energy and Spectral Flux =\", t, prob\n",
    "print '-------------------------------------------\\n'"
   ]
  },
  {
   "cell_type": "code",
   "execution_count": null,
   "metadata": {
    "collapsed": true
   },
   "outputs": [],
   "source": []
  }
 ],
 "metadata": {
  "celltoolbar": "Raw Cell Format",
  "kernelspec": {
   "display_name": "Python 2",
   "language": "python",
   "name": "python2"
  },
  "language_info": {
   "codemirror_mode": {
    "name": "ipython",
    "version": 2
   },
   "file_extension": ".py",
   "mimetype": "text/x-python",
   "name": "python",
   "nbconvert_exporter": "python",
   "pygments_lexer": "ipython2",
   "version": "2.7.13"
  }
 },
 "nbformat": 4,
 "nbformat_minor": 0
}
